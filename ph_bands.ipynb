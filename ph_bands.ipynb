{
 "cells": [
  {
   "cell_type": "code",
   "execution_count": 17,
   "id": "f85cc4e9",
   "metadata": {},
   "outputs": [
    {
     "name": "stderr",
     "output_type": "stream",
     "text": [
      "/usr/local/lib64/python3.6/site-packages/pymatgen/phonon/bandstructure.py:455: VisibleDeprecationWarning:\n",
      "\n",
      "Creating an ndarray from ragged nested sequences (which is a list-or-tuple of lists-or-tuples-or ndarrays with different lengths or shapes) is deprecated. If you meant to do this, you must specify 'dtype=object' when creating the ndarray\n",
      "\n",
      "/usr/local/lib64/python3.6/site-packages/pymatgen/phonon/bandstructure.py:456: VisibleDeprecationWarning:\n",
      "\n",
      "Creating an ndarray from ragged nested sequences (which is a list-or-tuple of lists-or-tuples-or ndarrays with different lengths or shapes) is deprecated. If you meant to do this, you must specify 'dtype=object' when creating the ndarray\n",
      "\n"
     ]
    }
   ],
   "source": [
    "from pymatgen.ext.matproj import MPRester\n",
    "with MPRester(\"hAyTf8zq9AWy4PrFn\") as m:\n",
    "\n",
    "    # Structure for material id\n",
    "    structure = m.get_structure_by_material_id(\"mp-569779\")\n",
    "\n",
    "    # Dos for material id\n",
    "    dos = m.get_dos_by_material_id(\"mp-569779\")\n",
    "\n",
    "    # Bandstructure for material id\n",
    "    bandstructure = m.get_bandstructure_by_material_id(\"mp-569779\")\n",
    "    \n",
    "    struc = m.get_phonon_bandstructure_by_material_id(\"mp-569779\")"
   ]
  },
  {
   "cell_type": "code",
   "execution_count": 19,
   "id": "eb110494",
   "metadata": {},
   "outputs": [
    {
     "name": "stdout",
     "output_type": "stream",
     "text": [
      "Calcul de la vitesse du son :\n",
      "\n",
      "La vitesse du son de la branche acoustique numéro 1 dans la direction Γ - X vaut  2787.5596637802596 .\n",
      "La vitesse du son de la branche acoustique numéro 0 dans la direction K - Γ vaut  2327.9132130305543 .\n",
      "La vitesse du son de la branche acoustique numéro 2 dans la direction Γ - L vaut  4971.088493828851 .\n"
     ]
    }
   ],
   "source": [
    "from pymatgen.phonon.plotter import PhononBSPlotter\n",
    "import numpy as np \n",
    "from pymatgen.core.lattice import Lattice\n",
    "import matplotlib.pyplot as plt\n",
    "\n",
    "bsp = PhononBSPlotter(struc)\n",
    "\n",
    "# Vitesse du son\n",
    "print(\"Calcul de la vitesse du son :\\n\")\n",
    "\n",
    "data = bsp.bs_plot_data()\n",
    "distances = data.get(\"distances\") #obtention des vecteurs d'onde q le long de tous les chemins\n",
    "frequencies = data.get(\"frequency\") #obtention des fréquences associées aux vercteurs d'ondes q\n",
    "\n",
    "\n",
    "d1 = distances[0]\n",
    "f1 = frequencies[0][1]\n",
    "x1 = distances[0][4] - distances[0][0]\n",
    "y1 = f1[4] - f1[0]\n",
    "v1 = 2*np.pi * abs(y1)*10**12*10**(-10)/x1 #changement d'unité et calcul de la vitesse du son\n",
    "print(\"La vitesse du son de la branche acoustique numéro 1 dans la direction Γ - X vaut \", v1, \".\")\n",
    "\n",
    "d2 = distances[3]\n",
    "f2 = frequencies[3][0]\n",
    "x2 = d2[-1] - d2[-5]\n",
    "y2 = f2[-1] - f2[-5]\n",
    "v2 = 2*np.pi * abs(y2)*10**12*10**(-10)/x2 #changement d'unité et calcul de la vitesse du son\n",
    "print(\"La vitesse du son de la branche acoustique numéro 0 dans la direction K - Γ vaut \", v2, \".\")\n",
    "\n",
    "d3 = distances[4]\n",
    "f3 = frequencies[4][2]\n",
    "x3 = d3[4] - d3[0]\n",
    "y3 = f3[4] - f3[0]\n",
    "v3 = 2*np.pi * abs(y3)*10**12*10**(-10)/x3 #changement d'unité et calcul de la vitesse du son\n",
    "print(\"La vitesse du son de la branche acoustique numéro 2 dans la direction Γ - L vaut \", v3, \".\")"
   ]
  },
  {
   "cell_type": "code",
   "execution_count": null,
   "id": "d7abae57",
   "metadata": {},
   "outputs": [],
   "source": []
  }
 ],
 "metadata": {
  "kernelspec": {
   "display_name": "Python 3",
   "language": "python",
   "name": "python3"
  },
  "language_info": {
   "codemirror_mode": {
    "name": "ipython",
    "version": 3
   },
   "file_extension": ".py",
   "mimetype": "text/x-python",
   "name": "python",
   "nbconvert_exporter": "python",
   "pygments_lexer": "ipython3",
   "version": "3.6.8"
  }
 },
 "nbformat": 4,
 "nbformat_minor": 5
}
