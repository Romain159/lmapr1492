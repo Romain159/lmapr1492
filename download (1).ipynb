{
 "cells": [
  {
   "cell_type": "code",
   "execution_count": 30,
   "id": "c58307e9",
   "metadata": {},
   "outputs": [
    {
     "name": "stdout",
     "output_type": "stream",
     "text": [
      "Requirement already satisfied: pymatgen in /usr/local/lib64/python3.6/site-packages\n",
      "Requirement already satisfied: numpy>=1.14.3 in /usr/local/lib64/python3.6/site-packages (from pymatgen)\n",
      "Requirement already satisfied: requests in /usr/local/lib/python3.6/site-packages (from pymatgen)\n",
      "Requirement already satisfied: ruamel.yaml>=0.15.6 in /usr/local/lib/python3.6/site-packages (from pymatgen)\n",
      "Requirement already satisfied: monty>=3.0.2 in /usr/local/lib/python3.6/site-packages (from pymatgen)\n",
      "Requirement already satisfied: scipy>=1.5.0 in /usr/local/lib64/python3.6/site-packages (from pymatgen)\n",
      "Requirement already satisfied: tabulate in /usr/local/lib/python3.6/site-packages (from pymatgen)\n",
      "Requirement already satisfied: spglib>=1.9.9.44 in /usr/local/lib64/python3.6/site-packages (from pymatgen)\n",
      "Requirement already satisfied: networkx>=2.2 in /usr/local/lib/python3.6/site-packages (from pymatgen)\n",
      "Requirement already satisfied: matplotlib>=1.5 in /usr/local/lib64/python3.6/site-packages (from pymatgen)\n",
      "Requirement already satisfied: palettable>=3.1.1 in /usr/local/lib/python3.6/site-packages (from pymatgen)\n",
      "Requirement already satisfied: sympy in /usr/local/lib/python3.6/site-packages (from pymatgen)\n",
      "Requirement already satisfied: pandas in /usr/local/lib64/python3.6/site-packages (from pymatgen)\n",
      "Requirement already satisfied: plotly>=4.5.0 in /usr/local/lib/python3.6/site-packages (from pymatgen)\n",
      "Requirement already satisfied: uncertainties>=3.1.4 in /usr/local/lib/python3.6/site-packages (from pymatgen)\n",
      "Requirement already satisfied: dataclasses>=0.6 in /usr/local/lib/python3.6/site-packages (from pymatgen)\n",
      "Requirement already satisfied: chardet<5,>=3.0.2 in /usr/local/lib/python3.6/site-packages (from requests->pymatgen)\n",
      "Requirement already satisfied: certifi>=2017.4.17 in /usr/local/lib/python3.6/site-packages (from requests->pymatgen)\n",
      "Requirement already satisfied: urllib3<1.27,>=1.21.1 in /usr/local/lib/python3.6/site-packages (from requests->pymatgen)\n",
      "Requirement already satisfied: idna<3,>=2.5 in /usr/local/lib/python3.6/site-packages (from requests->pymatgen)\n",
      "Requirement already satisfied: ruamel.yaml.clib>=0.1.2; platform_python_implementation == \"CPython\" and python_version < \"3.9\" in /usr/local/lib64/python3.6/site-packages (from ruamel.yaml>=0.15.6->pymatgen)\n",
      "Requirement already satisfied: decorator>=4.3.0 in /usr/local/lib/python3.6/site-packages (from networkx>=2.2->pymatgen)\n",
      "Requirement already satisfied: pillow>=6.2.0 in /usr/local/lib64/python3.6/site-packages (from matplotlib>=1.5->pymatgen)\n",
      "Requirement already satisfied: pyparsing!=2.0.4,!=2.1.2,!=2.1.6,>=2.0.3 in /usr/local/lib/python3.6/site-packages (from matplotlib>=1.5->pymatgen)\n",
      "Requirement already satisfied: python-dateutil>=2.1 in /usr/local/lib/python3.6/site-packages (from matplotlib>=1.5->pymatgen)\n",
      "Requirement already satisfied: cycler>=0.10 in /usr/local/lib/python3.6/site-packages (from matplotlib>=1.5->pymatgen)\n",
      "Requirement already satisfied: kiwisolver>=1.0.1 in /usr/local/lib64/python3.6/site-packages (from matplotlib>=1.5->pymatgen)\n",
      "Requirement already satisfied: mpmath>=0.19 in /usr/local/lib/python3.6/site-packages (from sympy->pymatgen)\n",
      "Requirement already satisfied: pytz>=2017.2 in /usr/local/lib/python3.6/site-packages (from pandas->pymatgen)\n",
      "Requirement already satisfied: six in /usr/local/lib/python3.6/site-packages (from plotly>=4.5.0->pymatgen)\n",
      "Requirement already satisfied: retrying>=1.3.3 in /usr/local/lib/python3.6/site-packages (from plotly>=4.5.0->pymatgen)\n",
      "Requirement already satisfied: future in /usr/local/lib/python3.6/site-packages (from uncertainties>=3.1.4->pymatgen)\n",
      "Note: you may need to restart the kernel to use updated packages.\n"
     ]
    }
   ],
   "source": [
    "pip install pymatgen"
   ]
  },
  {
   "cell_type": "code",
   "execution_count": null,
   "id": "67785b39",
   "metadata": {},
   "outputs": [],
   "source": []
  },
  {
   "cell_type": "code",
   "execution_count": 31,
   "id": "21a917d3",
   "metadata": {},
   "outputs": [],
   "source": [
    "from pymatgen import MPRester\n",
    "\n",
    "api_key = \"wqasktsbYbkRXMVF41o1u1tVqXzkXnp1\"\n",
    "mpr = MPRester(api_key)"
   ]
  },
  {
   "cell_type": "code",
   "execution_count": 32,
   "id": "13ed58eb",
   "metadata": {},
   "outputs": [
    {
     "name": "stdout",
     "output_type": "stream",
     "text": [
      "Une erreur est survenue : 0\n"
     ]
    }
   ],
   "source": [
    "material_id = \"mp-569779\"\n",
    "try:\n",
    "    data = mpr.get_data(material_id, \"cif\")\n",
    "    cif_string = data[0][\"cif\"]\n",
    "    with open(material_id + \".cif\", \"w\") as f:\n",
    "        f.write(cif_string)\n",
    "    print(f\"Fichier CIF enregistré sous le nom {material_id}.cif\")\n",
    "except Exception as e:\n",
    "    print(f\"Une erreur est survenue : {str(e)}\")"
   ]
  },
  {
   "cell_type": "code",
   "execution_count": null,
   "id": "e049041d",
   "metadata": {},
   "outputs": [],
   "source": []
  }
 ],
 "metadata": {
  "kernelspec": {
   "display_name": "Python 3",
   "language": "python",
   "name": "python3"
  },
  "language_info": {
   "codemirror_mode": {
    "name": "ipython",
    "version": 3
   },
   "file_extension": ".py",
   "mimetype": "text/x-python",
   "name": "python",
   "nbconvert_exporter": "python",
   "pygments_lexer": "ipython3",
   "version": "3.6.8"
  }
 },
 "nbformat": 4,
 "nbformat_minor": 5
}
