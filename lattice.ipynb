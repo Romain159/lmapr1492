{
 "cells": [
  {
   "cell_type": "code",
   "execution_count": 4,
   "id": "d6cd86f8",
   "metadata": {},
   "outputs": [
    {
     "name": "stdout",
     "output_type": "stream",
     "text": [
      "Requirement already satisfied: pymatgen in /usr/local/lib64/python3.6/site-packages\n",
      "Requirement already satisfied: monty>=3.0.2 in /usr/local/lib/python3.6/site-packages (from pymatgen)\n",
      "Requirement already satisfied: requests in /usr/local/lib/python3.6/site-packages (from pymatgen)\n",
      "Requirement already satisfied: dataclasses>=0.6; python_version < \"3.7\" in /usr/local/lib/python3.6/site-packages (from pymatgen)\n",
      "Requirement already satisfied: pandas in /usr/local/lib64/python3.6/site-packages (from pymatgen)\n",
      "Requirement already satisfied: spglib>=1.9.9.44 in /usr/local/lib64/python3.6/site-packages (from pymatgen)\n",
      "Requirement already satisfied: sympy in /usr/local/lib/python3.6/site-packages (from pymatgen)\n",
      "Requirement already satisfied: plotly>=4.5.0 in /usr/local/lib/python3.6/site-packages (from pymatgen)\n",
      "Requirement already satisfied: tabulate in /usr/local/lib/python3.6/site-packages (from pymatgen)\n",
      "Requirement already satisfied: networkx>=2.2 in /usr/local/lib/python3.6/site-packages (from pymatgen)\n",
      "Requirement already satisfied: matplotlib>=1.5 in /usr/local/lib64/python3.6/site-packages (from pymatgen)\n",
      "Requirement already satisfied: numpy>=1.14.3 in /usr/local/lib64/python3.6/site-packages (from pymatgen)\n",
      "Requirement already satisfied: palettable>=3.1.1 in /usr/local/lib/python3.6/site-packages (from pymatgen)\n",
      "Requirement already satisfied: ruamel.yaml>=0.15.6 in /usr/local/lib/python3.6/site-packages (from pymatgen)\n",
      "Requirement already satisfied: uncertainties>=3.1.4 in /usr/local/lib/python3.6/site-packages (from pymatgen)\n",
      "Requirement already satisfied: scipy>=1.5.0 in /usr/local/lib64/python3.6/site-packages (from pymatgen)\n",
      "Requirement already satisfied: urllib3<1.27,>=1.21.1 in /usr/local/lib/python3.6/site-packages (from requests->pymatgen)\n",
      "Requirement already satisfied: certifi>=2017.4.17 in /usr/local/lib/python3.6/site-packages (from requests->pymatgen)\n",
      "Requirement already satisfied: chardet<5,>=3.0.2 in /usr/local/lib/python3.6/site-packages (from requests->pymatgen)\n",
      "Requirement already satisfied: idna<3,>=2.5 in /usr/local/lib/python3.6/site-packages (from requests->pymatgen)\n",
      "Requirement already satisfied: pytz>=2017.2 in /usr/local/lib/python3.6/site-packages (from pandas->pymatgen)\n",
      "Requirement already satisfied: python-dateutil>=2.7.3 in /usr/local/lib/python3.6/site-packages (from pandas->pymatgen)\n",
      "Requirement already satisfied: mpmath>=0.19 in /usr/local/lib/python3.6/site-packages (from sympy->pymatgen)\n",
      "Requirement already satisfied: six in /usr/local/lib/python3.6/site-packages (from plotly>=4.5.0->pymatgen)\n",
      "Requirement already satisfied: retrying>=1.3.3 in /usr/local/lib/python3.6/site-packages (from plotly>=4.5.0->pymatgen)\n",
      "Requirement already satisfied: decorator>=4.3.0 in /usr/local/lib/python3.6/site-packages (from networkx>=2.2->pymatgen)\n",
      "Requirement already satisfied: pyparsing!=2.0.4,!=2.1.2,!=2.1.6,>=2.0.3 in /usr/local/lib/python3.6/site-packages (from matplotlib>=1.5->pymatgen)\n",
      "Requirement already satisfied: pillow>=6.2.0 in /usr/local/lib64/python3.6/site-packages (from matplotlib>=1.5->pymatgen)\n",
      "Requirement already satisfied: cycler>=0.10 in /usr/local/lib/python3.6/site-packages (from matplotlib>=1.5->pymatgen)\n",
      "Requirement already satisfied: kiwisolver>=1.0.1 in /usr/local/lib64/python3.6/site-packages (from matplotlib>=1.5->pymatgen)\n",
      "Requirement already satisfied: ruamel.yaml.clib>=0.1.2; platform_python_implementation == \"CPython\" and python_version < \"3.9\" in /usr/local/lib64/python3.6/site-packages (from ruamel.yaml>=0.15.6->pymatgen)\n",
      "Requirement already satisfied: future in /usr/local/lib/python3.6/site-packages (from uncertainties>=3.1.4->pymatgen)\n",
      "Note: you may need to restart the kernel to use updated packages.\n"
     ]
    }
   ],
   "source": [
    "pip install pymatgen"
   ]
  },
  {
   "cell_type": "code",
   "execution_count": 7,
   "id": "87e8fdc6",
   "metadata": {},
   "outputs": [],
   "source": [
    "from pymatgen.ext.matproj import MPRester\n",
    "with MPRester(\"hAyTf8zq9AWy4PrFn\") as m:\n",
    "\n",
    "    # Structure for material id\n",
    "    structure = m.get_structure_by_material_id(\"mp-569779\")\n",
    "\n",
    "    # Dos for material id\n",
    "    dos = m.get_dos_by_material_id(\"mp-569779\")\n",
    "\n",
    "    # Bandstructure for material id\n",
    "    bandstructure = m.get_bandstructure_by_material_id(\"mp-569779\")\n"
   ]
  },
  {
   "cell_type": "code",
   "execution_count": 9,
   "id": "488e7129",
   "metadata": {
    "scrolled": true
   },
   "outputs": [
    {
     "name": "stdout",
     "output_type": "stream",
     "text": [
      "Vecteurs de base du réseau direct :\n",
      " [[0.       3.188281 3.188281]\n",
      " [3.188281 0.       3.188281]\n",
      " [3.188281 3.188281 0.      ]]\n",
      "\n",
      "Vecteurs de base du réseau réciproque :\n",
      " [[-0.98535626  0.98535626  0.98535626]\n",
      " [ 0.98535626 -0.98535626  0.98535626]\n",
      " [ 0.98535626  0.98535626 -0.98535626]]\n",
      "\n",
      "Type de maille : cubic\n",
      "Système cristallin : cubic\n",
      "\n",
      "Groupe ponctuel : -43m\n"
     ]
    }
   ],
   "source": [
    "from pymatgen.symmetry.analyzer import SpacegroupAnalyzer\n",
    "from pymatgen.analysis.diffraction import xrd\n",
    "from pymatgen.core.lattice import Lattice\n",
    "\n",
    "# Récupération de la structure\n",
    "with MPRester(\"hAyTf8zq9AWy4PrFn\") as m:\n",
    "    structure = m.get_structure_by_material_id(\"mp-569779\")\n",
    "\n",
    "# Détermination des vecteurs de base des réseaux direct et réciproque\n",
    "direct_vectors = structure.lattice.matrix\n",
    "reciprocal_vectors = Lattice(direct_vectors).reciprocal_lattice.matrix\n",
    "\n",
    "print(\"Vecteurs de base du réseau direct :\\n\", direct_vectors)\n",
    "print(\"\\nVecteurs de base du réseau réciproque :\\n\", reciprocal_vectors)\n",
    "\n",
    "# Détermination du type de maille et du système cristallin\n",
    "analyzer = SpacegroupAnalyzer(structure)\n",
    "print(\"\\nType de maille :\", analyzer.get_lattice_type())\n",
    "print(\"Système cristallin :\", analyzer.get_crystal_system())\n",
    "\n",
    "# Détermination du groupe ponctuel\n",
    "print(\"\\nGroupe ponctuel :\", analyzer.get_point_group_symbol())"
   ]
  },
  {
   "cell_type": "code",
   "execution_count": null,
   "id": "a7e36e95",
   "metadata": {},
   "outputs": [],
   "source": []
  }
 ],
 "metadata": {
  "kernelspec": {
   "display_name": "Python 3",
   "language": "python",
   "name": "python3"
  },
  "language_info": {
   "codemirror_mode": {
    "name": "ipython",
    "version": 3
   },
   "file_extension": ".py",
   "mimetype": "text/x-python",
   "name": "python",
   "nbconvert_exporter": "python",
   "pygments_lexer": "ipython3",
   "version": "3.6.8"
  }
 },
 "nbformat": 4,
 "nbformat_minor": 5
}
